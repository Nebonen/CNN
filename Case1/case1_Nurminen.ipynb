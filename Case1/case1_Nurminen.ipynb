{
 "cells": [
  {
   "cell_type": "markdown",
   "id": "37bc54f9",
   "metadata": {
    "papermill": {
     "duration": 0.004781,
     "end_time": "2024-01-17T13:52:33.830360",
     "exception": false,
     "start_time": "2024-01-17T13:52:33.825579",
     "status": "completed"
    },
    "tags": []
   },
   "source": [
    "# Case 1. Heart Disease Classification (Template)\n",
    "**Neural Networks for Machine Learning Applications**<br>\n",
    "21.11.2024<br>\n",
    "**Miska Nurminen**<br>\n",
    "[Information Technology, Bachelor's Degree](https://www.metropolia.fi/en/academics/bachelors-degrees/information-technology)<br>\n",
    "[Metropolia University of Applied Sciences](https://www.metropolia.fi/en)"
   ]
  },
  {
   "cell_type": "markdown",
   "id": "93ca3645",
   "metadata": {
    "papermill": {
     "duration": 0.003921,
     "end_time": "2024-01-17T13:52:33.839108",
     "exception": false,
     "start_time": "2024-01-17T13:52:33.835187",
     "status": "completed"
    },
    "tags": []
   },
   "source": [
    "## 1. Introduction\n",
    "\n",
    "The purpose of this notebook was to learn and understand how neural networks are used in diagnostic decision making.<br>\n",
    "The task was to read and preprocess the data [Heart Disease Health Indicators Dataset](https://www.kaggle.com/datasets/alexteboul/heart-disease-health-indicators-dataset) and create and train a dense neural network to predict to classify the presence of heart disease."
   ]
  },
  {
   "cell_type": "markdown",
   "id": "5e8a3b54",
   "metadata": {
    "papermill": {
     "duration": 0.003741,
     "end_time": "2024-01-17T13:52:33.846830",
     "exception": false,
     "start_time": "2024-01-17T13:52:33.843089",
     "status": "completed"
    },
    "tags": []
   },
   "source": [
    "## 2. Setup\n",
    "\n",
    "- Pandas is used to read the csv file containing the dataset.\n",
    "- Tensorflow and keras are used to make the neural network itself.\n",
    "- matplotlib is used to visualize loss and accuracy.\n",
    "- time is used to display total training time\n",
    "- sklearn is used for preprocessing"
   ]
  },
  {
   "cell_type": "code",
   "execution_count": null,
   "id": "48d89ab3",
   "metadata": {
    "execution": {
     "iopub.execute_input": "2024-01-17T13:52:33.856361Z",
     "iopub.status.busy": "2024-01-17T13:52:33.855949Z",
     "iopub.status.idle": "2024-01-17T13:52:33.860844Z",
     "shell.execute_reply": "2024-01-17T13:52:33.860220Z"
    },
    "papermill": {
     "duration": 0.012038,
     "end_time": "2024-01-17T13:52:33.862816",
     "exception": false,
     "start_time": "2024-01-17T13:52:33.850778",
     "status": "completed"
    },
    "tags": []
   },
   "outputs": [],
   "source": [
    "import pandas as pd\n",
    "import tensorflow as tf\n",
    "import matplotlib.pyplot as plt\n",
    "from keras import Sequential\n",
    "from keras import layers\n",
    "import time\n",
    "from sklearn.model_selection import train_test_split\n",
    "from sklearn.preprocessing import StandardScaler"
   ]
  },
  {
   "cell_type": "markdown",
   "id": "1dcd07c1",
   "metadata": {
    "papermill": {
     "duration": 0.003598,
     "end_time": "2024-01-17T13:52:33.870587",
     "exception": false,
     "start_time": "2024-01-17T13:52:33.866989",
     "status": "completed"
    },
    "tags": []
   },
   "source": [
    "## 3. Dataset"
   ]
  },
  {
   "cell_type": "markdown",
   "id": "eed817f9",
   "metadata": {
    "papermill": {
     "duration": 0.003608,
     "end_time": "2024-01-17T13:52:33.878039",
     "exception": false,
     "start_time": "2024-01-17T13:52:33.874431",
     "status": "completed"
    },
    "tags": []
   },
   "source": [
    "The dataset contains 253,680 survey responses from cleaned BRFSS 2015 to be used for the binary classification of heart disease.<br>\n",
    "229,787 respondents do not have/have not had heart disease, while 23,893 have had heart disease.\n",
    "\n",
    "A sample size of 20000 is used for this."
   ]
  },
  {
   "cell_type": "code",
   "execution_count": 123,
   "id": "9c46b054",
   "metadata": {
    "execution": {
     "iopub.execute_input": "2024-01-17T13:52:33.888184Z",
     "iopub.status.busy": "2024-01-17T13:52:33.886993Z",
     "iopub.status.idle": "2024-01-17T13:52:33.891234Z",
     "shell.execute_reply": "2024-01-17T13:52:33.890559Z"
    },
    "papermill": {
     "duration": 0.01158,
     "end_time": "2024-01-17T13:52:33.893497",
     "exception": false,
     "start_time": "2024-01-17T13:52:33.881917",
     "status": "completed"
    },
    "tags": []
   },
   "outputs": [
    {
     "data": {
      "text/html": [
       "<div>\n",
       "<style scoped>\n",
       "    .dataframe tbody tr th:only-of-type {\n",
       "        vertical-align: middle;\n",
       "    }\n",
       "\n",
       "    .dataframe tbody tr th {\n",
       "        vertical-align: top;\n",
       "    }\n",
       "\n",
       "    .dataframe thead th {\n",
       "        text-align: right;\n",
       "    }\n",
       "</style>\n",
       "<table border=\"1\" class=\"dataframe\">\n",
       "  <thead>\n",
       "    <tr style=\"text-align: right;\">\n",
       "      <th></th>\n",
       "      <th>HeartDiseaseorAttack</th>\n",
       "      <th>HighBP</th>\n",
       "      <th>HighChol</th>\n",
       "      <th>CholCheck</th>\n",
       "      <th>BMI</th>\n",
       "      <th>Smoker</th>\n",
       "      <th>Stroke</th>\n",
       "      <th>Diabetes</th>\n",
       "      <th>PhysActivity</th>\n",
       "      <th>Fruits</th>\n",
       "      <th>...</th>\n",
       "      <th>AnyHealthcare</th>\n",
       "      <th>NoDocbcCost</th>\n",
       "      <th>GenHlth</th>\n",
       "      <th>MentHlth</th>\n",
       "      <th>PhysHlth</th>\n",
       "      <th>DiffWalk</th>\n",
       "      <th>Sex</th>\n",
       "      <th>Age</th>\n",
       "      <th>Education</th>\n",
       "      <th>Income</th>\n",
       "    </tr>\n",
       "  </thead>\n",
       "  <tbody>\n",
       "    <tr>\n",
       "      <th>72496</th>\n",
       "      <td>1.0</td>\n",
       "      <td>0.0</td>\n",
       "      <td>0.0</td>\n",
       "      <td>1.0</td>\n",
       "      <td>21.0</td>\n",
       "      <td>1.0</td>\n",
       "      <td>0.0</td>\n",
       "      <td>0.0</td>\n",
       "      <td>1.0</td>\n",
       "      <td>0.0</td>\n",
       "      <td>...</td>\n",
       "      <td>1.0</td>\n",
       "      <td>0.0</td>\n",
       "      <td>2.0</td>\n",
       "      <td>0.0</td>\n",
       "      <td>0.0</td>\n",
       "      <td>0.0</td>\n",
       "      <td>1.0</td>\n",
       "      <td>7.0</td>\n",
       "      <td>5.0</td>\n",
       "      <td>4.0</td>\n",
       "    </tr>\n",
       "    <tr>\n",
       "      <th>75782</th>\n",
       "      <td>1.0</td>\n",
       "      <td>1.0</td>\n",
       "      <td>1.0</td>\n",
       "      <td>1.0</td>\n",
       "      <td>33.0</td>\n",
       "      <td>1.0</td>\n",
       "      <td>0.0</td>\n",
       "      <td>2.0</td>\n",
       "      <td>0.0</td>\n",
       "      <td>0.0</td>\n",
       "      <td>...</td>\n",
       "      <td>1.0</td>\n",
       "      <td>0.0</td>\n",
       "      <td>4.0</td>\n",
       "      <td>7.0</td>\n",
       "      <td>7.0</td>\n",
       "      <td>1.0</td>\n",
       "      <td>1.0</td>\n",
       "      <td>9.0</td>\n",
       "      <td>4.0</td>\n",
       "      <td>3.0</td>\n",
       "    </tr>\n",
       "    <tr>\n",
       "      <th>153752</th>\n",
       "      <td>0.0</td>\n",
       "      <td>0.0</td>\n",
       "      <td>0.0</td>\n",
       "      <td>1.0</td>\n",
       "      <td>26.0</td>\n",
       "      <td>0.0</td>\n",
       "      <td>0.0</td>\n",
       "      <td>0.0</td>\n",
       "      <td>0.0</td>\n",
       "      <td>1.0</td>\n",
       "      <td>...</td>\n",
       "      <td>1.0</td>\n",
       "      <td>0.0</td>\n",
       "      <td>3.0</td>\n",
       "      <td>2.0</td>\n",
       "      <td>5.0</td>\n",
       "      <td>0.0</td>\n",
       "      <td>0.0</td>\n",
       "      <td>8.0</td>\n",
       "      <td>6.0</td>\n",
       "      <td>6.0</td>\n",
       "    </tr>\n",
       "    <tr>\n",
       "      <th>236100</th>\n",
       "      <td>0.0</td>\n",
       "      <td>1.0</td>\n",
       "      <td>1.0</td>\n",
       "      <td>1.0</td>\n",
       "      <td>39.0</td>\n",
       "      <td>1.0</td>\n",
       "      <td>0.0</td>\n",
       "      <td>0.0</td>\n",
       "      <td>1.0</td>\n",
       "      <td>0.0</td>\n",
       "      <td>...</td>\n",
       "      <td>1.0</td>\n",
       "      <td>0.0</td>\n",
       "      <td>3.0</td>\n",
       "      <td>0.0</td>\n",
       "      <td>0.0</td>\n",
       "      <td>0.0</td>\n",
       "      <td>0.0</td>\n",
       "      <td>9.0</td>\n",
       "      <td>4.0</td>\n",
       "      <td>6.0</td>\n",
       "    </tr>\n",
       "    <tr>\n",
       "      <th>219821</th>\n",
       "      <td>0.0</td>\n",
       "      <td>0.0</td>\n",
       "      <td>0.0</td>\n",
       "      <td>1.0</td>\n",
       "      <td>27.0</td>\n",
       "      <td>0.0</td>\n",
       "      <td>0.0</td>\n",
       "      <td>0.0</td>\n",
       "      <td>1.0</td>\n",
       "      <td>1.0</td>\n",
       "      <td>...</td>\n",
       "      <td>1.0</td>\n",
       "      <td>0.0</td>\n",
       "      <td>2.0</td>\n",
       "      <td>0.0</td>\n",
       "      <td>0.0</td>\n",
       "      <td>0.0</td>\n",
       "      <td>1.0</td>\n",
       "      <td>9.0</td>\n",
       "      <td>6.0</td>\n",
       "      <td>8.0</td>\n",
       "    </tr>\n",
       "    <tr>\n",
       "      <th>...</th>\n",
       "      <td>...</td>\n",
       "      <td>...</td>\n",
       "      <td>...</td>\n",
       "      <td>...</td>\n",
       "      <td>...</td>\n",
       "      <td>...</td>\n",
       "      <td>...</td>\n",
       "      <td>...</td>\n",
       "      <td>...</td>\n",
       "      <td>...</td>\n",
       "      <td>...</td>\n",
       "      <td>...</td>\n",
       "      <td>...</td>\n",
       "      <td>...</td>\n",
       "      <td>...</td>\n",
       "      <td>...</td>\n",
       "      <td>...</td>\n",
       "      <td>...</td>\n",
       "      <td>...</td>\n",
       "      <td>...</td>\n",
       "      <td>...</td>\n",
       "    </tr>\n",
       "    <tr>\n",
       "      <th>65936</th>\n",
       "      <td>0.0</td>\n",
       "      <td>0.0</td>\n",
       "      <td>0.0</td>\n",
       "      <td>1.0</td>\n",
       "      <td>24.0</td>\n",
       "      <td>0.0</td>\n",
       "      <td>0.0</td>\n",
       "      <td>0.0</td>\n",
       "      <td>1.0</td>\n",
       "      <td>1.0</td>\n",
       "      <td>...</td>\n",
       "      <td>1.0</td>\n",
       "      <td>0.0</td>\n",
       "      <td>1.0</td>\n",
       "      <td>0.0</td>\n",
       "      <td>0.0</td>\n",
       "      <td>0.0</td>\n",
       "      <td>0.0</td>\n",
       "      <td>8.0</td>\n",
       "      <td>5.0</td>\n",
       "      <td>7.0</td>\n",
       "    </tr>\n",
       "    <tr>\n",
       "      <th>116390</th>\n",
       "      <td>1.0</td>\n",
       "      <td>0.0</td>\n",
       "      <td>0.0</td>\n",
       "      <td>1.0</td>\n",
       "      <td>25.0</td>\n",
       "      <td>1.0</td>\n",
       "      <td>1.0</td>\n",
       "      <td>0.0</td>\n",
       "      <td>0.0</td>\n",
       "      <td>0.0</td>\n",
       "      <td>...</td>\n",
       "      <td>1.0</td>\n",
       "      <td>1.0</td>\n",
       "      <td>4.0</td>\n",
       "      <td>30.0</td>\n",
       "      <td>30.0</td>\n",
       "      <td>1.0</td>\n",
       "      <td>0.0</td>\n",
       "      <td>7.0</td>\n",
       "      <td>5.0</td>\n",
       "      <td>5.0</td>\n",
       "    </tr>\n",
       "    <tr>\n",
       "      <th>169476</th>\n",
       "      <td>0.0</td>\n",
       "      <td>0.0</td>\n",
       "      <td>1.0</td>\n",
       "      <td>1.0</td>\n",
       "      <td>34.0</td>\n",
       "      <td>0.0</td>\n",
       "      <td>0.0</td>\n",
       "      <td>0.0</td>\n",
       "      <td>1.0</td>\n",
       "      <td>1.0</td>\n",
       "      <td>...</td>\n",
       "      <td>1.0</td>\n",
       "      <td>0.0</td>\n",
       "      <td>3.0</td>\n",
       "      <td>10.0</td>\n",
       "      <td>0.0</td>\n",
       "      <td>0.0</td>\n",
       "      <td>0.0</td>\n",
       "      <td>12.0</td>\n",
       "      <td>3.0</td>\n",
       "      <td>6.0</td>\n",
       "    </tr>\n",
       "    <tr>\n",
       "      <th>132613</th>\n",
       "      <td>0.0</td>\n",
       "      <td>0.0</td>\n",
       "      <td>0.0</td>\n",
       "      <td>1.0</td>\n",
       "      <td>26.0</td>\n",
       "      <td>0.0</td>\n",
       "      <td>0.0</td>\n",
       "      <td>0.0</td>\n",
       "      <td>1.0</td>\n",
       "      <td>1.0</td>\n",
       "      <td>...</td>\n",
       "      <td>1.0</td>\n",
       "      <td>0.0</td>\n",
       "      <td>2.0</td>\n",
       "      <td>0.0</td>\n",
       "      <td>0.0</td>\n",
       "      <td>0.0</td>\n",
       "      <td>1.0</td>\n",
       "      <td>10.0</td>\n",
       "      <td>5.0</td>\n",
       "      <td>7.0</td>\n",
       "    </tr>\n",
       "    <tr>\n",
       "      <th>134564</th>\n",
       "      <td>0.0</td>\n",
       "      <td>0.0</td>\n",
       "      <td>0.0</td>\n",
       "      <td>1.0</td>\n",
       "      <td>37.0</td>\n",
       "      <td>0.0</td>\n",
       "      <td>0.0</td>\n",
       "      <td>0.0</td>\n",
       "      <td>0.0</td>\n",
       "      <td>1.0</td>\n",
       "      <td>...</td>\n",
       "      <td>1.0</td>\n",
       "      <td>0.0</td>\n",
       "      <td>2.0</td>\n",
       "      <td>0.0</td>\n",
       "      <td>5.0</td>\n",
       "      <td>0.0</td>\n",
       "      <td>0.0</td>\n",
       "      <td>10.0</td>\n",
       "      <td>4.0</td>\n",
       "      <td>6.0</td>\n",
       "    </tr>\n",
       "  </tbody>\n",
       "</table>\n",
       "<p>20000 rows × 22 columns</p>\n",
       "</div>"
      ],
      "text/plain": [
       "        HeartDiseaseorAttack  HighBP  HighChol  CholCheck   BMI  Smoker  \\\n",
       "72496                    1.0     0.0       0.0        1.0  21.0     1.0   \n",
       "75782                    1.0     1.0       1.0        1.0  33.0     1.0   \n",
       "153752                   0.0     0.0       0.0        1.0  26.0     0.0   \n",
       "236100                   0.0     1.0       1.0        1.0  39.0     1.0   \n",
       "219821                   0.0     0.0       0.0        1.0  27.0     0.0   \n",
       "...                      ...     ...       ...        ...   ...     ...   \n",
       "65936                    0.0     0.0       0.0        1.0  24.0     0.0   \n",
       "116390                   1.0     0.0       0.0        1.0  25.0     1.0   \n",
       "169476                   0.0     0.0       1.0        1.0  34.0     0.0   \n",
       "132613                   0.0     0.0       0.0        1.0  26.0     0.0   \n",
       "134564                   0.0     0.0       0.0        1.0  37.0     0.0   \n",
       "\n",
       "        Stroke  Diabetes  PhysActivity  Fruits  ...  AnyHealthcare  \\\n",
       "72496      0.0       0.0           1.0     0.0  ...            1.0   \n",
       "75782      0.0       2.0           0.0     0.0  ...            1.0   \n",
       "153752     0.0       0.0           0.0     1.0  ...            1.0   \n",
       "236100     0.0       0.0           1.0     0.0  ...            1.0   \n",
       "219821     0.0       0.0           1.0     1.0  ...            1.0   \n",
       "...        ...       ...           ...     ...  ...            ...   \n",
       "65936      0.0       0.0           1.0     1.0  ...            1.0   \n",
       "116390     1.0       0.0           0.0     0.0  ...            1.0   \n",
       "169476     0.0       0.0           1.0     1.0  ...            1.0   \n",
       "132613     0.0       0.0           1.0     1.0  ...            1.0   \n",
       "134564     0.0       0.0           0.0     1.0  ...            1.0   \n",
       "\n",
       "        NoDocbcCost  GenHlth  MentHlth  PhysHlth  DiffWalk  Sex   Age  \\\n",
       "72496           0.0      2.0       0.0       0.0       0.0  1.0   7.0   \n",
       "75782           0.0      4.0       7.0       7.0       1.0  1.0   9.0   \n",
       "153752          0.0      3.0       2.0       5.0       0.0  0.0   8.0   \n",
       "236100          0.0      3.0       0.0       0.0       0.0  0.0   9.0   \n",
       "219821          0.0      2.0       0.0       0.0       0.0  1.0   9.0   \n",
       "...             ...      ...       ...       ...       ...  ...   ...   \n",
       "65936           0.0      1.0       0.0       0.0       0.0  0.0   8.0   \n",
       "116390          1.0      4.0      30.0      30.0       1.0  0.0   7.0   \n",
       "169476          0.0      3.0      10.0       0.0       0.0  0.0  12.0   \n",
       "132613          0.0      2.0       0.0       0.0       0.0  1.0  10.0   \n",
       "134564          0.0      2.0       0.0       5.0       0.0  0.0  10.0   \n",
       "\n",
       "        Education  Income  \n",
       "72496         5.0     4.0  \n",
       "75782         4.0     3.0  \n",
       "153752        6.0     6.0  \n",
       "236100        4.0     6.0  \n",
       "219821        6.0     8.0  \n",
       "...           ...     ...  \n",
       "65936         5.0     7.0  \n",
       "116390        5.0     5.0  \n",
       "169476        3.0     6.0  \n",
       "132613        5.0     7.0  \n",
       "134564        4.0     6.0  \n",
       "\n",
       "[20000 rows x 22 columns]"
      ]
     },
     "execution_count": 123,
     "metadata": {},
     "output_type": "execute_result"
    }
   ],
   "source": [
    "dataframe = pd.read_csv('heart_disease_health_indicators_BRFSS2015.csv')\n",
    "dataframe = dataframe.sample(20000)\n",
    "dataframe"
   ]
  },
  {
   "cell_type": "markdown",
   "id": "197b1154",
   "metadata": {
    "papermill": {
     "duration": 0.003772,
     "end_time": "2024-01-17T13:52:33.901479",
     "exception": false,
     "start_time": "2024-01-17T13:52:33.897707",
     "status": "completed"
    },
    "tags": []
   },
   "source": [
    "## 4. Preprocessing"
   ]
  },
  {
   "cell_type": "markdown",
   "id": "dc47a9af",
   "metadata": {
    "papermill": {
     "duration": 0.003813,
     "end_time": "2024-01-17T13:52:33.909415",
     "exception": false,
     "start_time": "2024-01-17T13:52:33.905602",
     "status": "completed"
    },
    "tags": []
   },
   "source": [
    "- There are no missing values, however 'HeartDiseaseorAttack' column is dropped from input.\n",
    "- I used train_test_split from sklearn -library to split the data to train, validation and test sets.\n",
    "- I used the scaler from sklearn -library to scale the data."
   ]
  },
  {
   "cell_type": "code",
   "execution_count": 124,
   "id": "af013776",
   "metadata": {
    "execution": {
     "iopub.execute_input": "2024-01-17T13:52:33.919189Z",
     "iopub.status.busy": "2024-01-17T13:52:33.918819Z",
     "iopub.status.idle": "2024-01-17T13:52:33.922482Z",
     "shell.execute_reply": "2024-01-17T13:52:33.921570Z"
    },
    "papermill": {
     "duration": 0.011332,
     "end_time": "2024-01-17T13:52:33.924796",
     "exception": false,
     "start_time": "2024-01-17T13:52:33.913464",
     "status": "completed"
    },
    "tags": []
   },
   "outputs": [],
   "source": [
    "# preparing the necessary datasets for training, validation and testing\n",
    "input_full = dataframe.drop(columns='HeartDiseaseorAttack')\n",
    "output_full = dataframe['HeartDiseaseorAttack']\n",
    "\n",
    "input_train, input_test, output_train, output_test = train_test_split(input_full, output_full, test_size=0.2)\n",
    "input_train, input_val, output_train, output_val = train_test_split(input_train, output_train, test_size=0.2)\n",
    "\n",
    "scaler = StandardScaler()\n",
    "scaler.fit(input_train)\n",
    "input_train = scaler.transform(input_train)\n",
    "input_val = scaler.transform(input_val)\n",
    "input_test = scaler.transform(input_test)\n",
    "output_train = output_train.values\n",
    "output_val = output_val.values"
   ]
  },
  {
   "cell_type": "markdown",
   "id": "62c5968a",
   "metadata": {
    "papermill": {
     "duration": 0.003744,
     "end_time": "2024-01-17T13:52:33.932914",
     "exception": false,
     "start_time": "2024-01-17T13:52:33.929170",
     "status": "completed"
    },
    "tags": []
   },
   "source": [
    "## 5. Modeling"
   ]
  },
  {
   "cell_type": "markdown",
   "id": "0d3fe000",
   "metadata": {
    "papermill": {
     "duration": 0.003756,
     "end_time": "2024-01-17T13:52:33.940624",
     "exception": false,
     "start_time": "2024-01-17T13:52:33.936868",
     "status": "completed"
    },
    "tags": []
   },
   "source": [
    "- binary_crossentropy is used for loss, adam is used for optimizer. Metrics are accuracy, precision and recall.\n",
    "- I used 2 hidden layers, 128 nodes and 64 nodes, both with relu actiovation. Dropout of 0.5 is used in the end. output layer with sigmoid activation is used."
   ]
  },
  {
   "cell_type": "code",
   "execution_count": 125,
   "id": "8048b9a1",
   "metadata": {
    "execution": {
     "iopub.execute_input": "2024-01-17T13:52:33.950769Z",
     "iopub.status.busy": "2024-01-17T13:52:33.950185Z",
     "iopub.status.idle": "2024-01-17T13:52:33.953642Z",
     "shell.execute_reply": "2024-01-17T13:52:33.953021Z"
    },
    "papermill": {
     "duration": 0.011033,
     "end_time": "2024-01-17T13:52:33.955763",
     "exception": false,
     "start_time": "2024-01-17T13:52:33.944730",
     "status": "completed"
    },
    "tags": []
   },
   "outputs": [],
   "source": [
    "\n",
    "model = Sequential([\n",
    "    layers.Input(shape=(21,)),\n",
    "    layers.Dense(128, activation='relu'),\n",
    "    layers.Dense(64, activation='relu'),\n",
    "    layers.Dropout(0.5),\n",
    "    layers.Dense(1, activation='sigmoid')\n",
    "])"
   ]
  },
  {
   "cell_type": "markdown",
   "id": "308769f6",
   "metadata": {
    "papermill": {
     "duration": 0.003655,
     "end_time": "2024-01-17T13:52:33.963533",
     "exception": false,
     "start_time": "2024-01-17T13:52:33.959878",
     "status": "completed"
    },
    "tags": []
   },
   "source": [
    "## 6. Training"
   ]
  },
  {
   "cell_type": "markdown",
   "id": "92a5151e",
   "metadata": {
    "papermill": {
     "duration": 0.004353,
     "end_time": "2024-01-17T13:52:33.971714",
     "exception": false,
     "start_time": "2024-01-17T13:52:33.967361",
     "status": "completed"
    },
    "tags": []
   },
   "source": [
    "Trains a binary classification model using the Adam optimizer with a binary crossentropy loss function. The training uses three metrics: accuracy, precision, and recall.<br>\n",
    "Class weights are applied to address class imbalance.<br>\n",
    "The training runs for 50 epochs with a batch size of 64 and evaluates the model on validation data during training.<br>\n",
    "The total training time is recorded and displayed."
   ]
  },
  {
   "cell_type": "code",
   "execution_count": 126,
   "id": "d4647b19",
   "metadata": {
    "execution": {
     "iopub.execute_input": "2024-01-17T13:52:33.980790Z",
     "iopub.status.busy": "2024-01-17T13:52:33.980412Z",
     "iopub.status.idle": "2024-01-17T13:52:33.984445Z",
     "shell.execute_reply": "2024-01-17T13:52:33.983646Z"
    },
    "papermill": {
     "duration": 0.010865,
     "end_time": "2024-01-17T13:52:33.986340",
     "exception": false,
     "start_time": "2024-01-17T13:52:33.975475",
     "status": "completed"
    },
    "tags": []
   },
   "outputs": [
    {
     "name": "stdout",
     "output_type": "stream",
     "text": [
      "Total training time: 12.924458503723145 seconds\n"
     ]
    }
   ],
   "source": [
    "model.compile(optimizer='adam', loss='binary_crossentropy', metrics=['accuracy', 'precision', 'recall'])\n",
    "\n",
    "class_weight = {0: 0.55, 1: 5.4}\n",
    "\n",
    "start_time = time.time()\n",
    "\n",
    "training = model.fit(input_train, output_train, epochs=50, batch_size=64, validation_data=(input_val, output_val), class_weight=class_weight, verbose=0)\n",
    "\n",
    "end_time = time.time()\n",
    "total_training_time = end_time - start_time\n",
    "\n",
    "print(f\"Total training time: {total_training_time} seconds\")"
   ]
  },
  {
   "cell_type": "code",
   "execution_count": 127,
   "id": "45782306",
   "metadata": {},
   "outputs": [
    {
     "data": {
      "text/plain": [
       "dict_keys(['accuracy', 'loss', 'precision', 'recall', 'val_accuracy', 'val_loss', 'val_precision', 'val_recall'])"
      ]
     },
     "execution_count": 127,
     "metadata": {},
     "output_type": "execute_result"
    }
   ],
   "source": [
    "training.history.keys()"
   ]
  },
  {
   "cell_type": "markdown",
   "id": "7065898e",
   "metadata": {
    "papermill": {
     "duration": 0.003724,
     "end_time": "2024-01-17T13:52:33.994288",
     "exception": false,
     "start_time": "2024-01-17T13:52:33.990564",
     "status": "completed"
    },
    "tags": []
   },
   "source": [
    "## 7. Performance and evaluation"
   ]
  },
  {
   "cell_type": "markdown",
   "id": "463fdf57",
   "metadata": {
    "papermill": {
     "duration": 0.003786,
     "end_time": "2024-01-17T13:52:34.001937",
     "exception": false,
     "start_time": "2024-01-17T13:52:33.998151",
     "status": "completed"
    },
    "tags": []
   },
   "source": [
    "- Both plots are looking good. There doesn't seem to bee underfitting, but overfitting seems to happen in loss plot.\n",
    "- Final performance is good, although accuracy could be better. Accuracy is .8413 and loss is .2998."
   ]
  },
  {
   "cell_type": "code",
   "execution_count": 128,
   "id": "8ff799fa",
   "metadata": {
    "execution": {
     "iopub.execute_input": "2024-01-17T13:52:34.011553Z",
     "iopub.status.busy": "2024-01-17T13:52:34.011076Z",
     "iopub.status.idle": "2024-01-17T13:52:34.014587Z",
     "shell.execute_reply": "2024-01-17T13:52:34.013574Z"
    },
    "papermill": {
     "duration": 0.011189,
     "end_time": "2024-01-17T13:52:34.016978",
     "exception": false,
     "start_time": "2024-01-17T13:52:34.005789",
     "status": "completed"
    },
    "tags": []
   },
   "outputs": [
    {
     "data": {
      "text/plain": [
       "Text(0, 0.5, 'Loss')"
      ]
     },
     "execution_count": 128,
     "metadata": {},
     "output_type": "execute_result"
    },
    {
     "data": {
      "image/png": "[encoded data removed]",
      "text/plain": [
       "<Figure size 640x480 with 1 Axes>"
      ]
     },
     "metadata": {},
     "output_type": "display_data"
    }
   ],
   "source": [
    "# visualize the training and validation loss\n",
    "plt.plot(training.history['loss'], label='train loss')\n",
    "plt.plot(training.history['val_loss'], label='val loss')\n",
    "plt.legend()\n",
    "plt.xlabel('Epoch')\n",
    "plt.ylabel('Loss')"
   ]
  },
  {
   "cell_type": "code",
   "execution_count": 129,
   "id": "a497ba01",
   "metadata": {},
   "outputs": [
    {
     "data": {
      "text/plain": [
       "Text(0, 0.5, 'Accuracy')"
      ]
     },
     "execution_count": 129,
     "metadata": {},
     "output_type": "execute_result"
    },
    {
     "data": {
      "image/png": "[encoded data removed]",
      "text/plain": [
       "<Figure size 640x480 with 1 Axes>"
      ]
     },
     "metadata": {},
     "output_type": "display_data"
    }
   ],
   "source": [
    "# visualize the training and validation accuracy\n",
    "plt.plot(training.history['accuracy'], label='train accuracy')\n",
    "plt.plot(training.history['val_accuracy'], label='val accuracy')\n",
    "plt.legend()\n",
    "plt.xlabel('Epoch')\n",
    "plt.ylabel('Accuracy')"
   ]
  },
  {
   "cell_type": "code",
   "execution_count": 130,
   "id": "b7d120ae",
   "metadata": {},
   "outputs": [
    {
     "name": "stdout",
     "output_type": "stream",
     "text": [
      "\u001b[1m400/400\u001b[0m \u001b[32m━━━━━━━━━━━━━━━━━━━━\u001b[0m\u001b[37m\u001b[0m \u001b[1m1s\u001b[0m 811us/step - accuracy: 0.8413 - loss: 0.2998 - precision: 0.3602 - recall: 0.9405\n"
     ]
    }
   ],
   "source": [
    "# test the model with current test set\n",
    "loss, precision, recall, accuracy = model.evaluate(input_train, output_train)"
   ]
  },
  {
   "cell_type": "markdown",
   "id": "13c9afff",
   "metadata": {
    "papermill": {
     "duration": 0.003947,
     "end_time": "2024-01-17T13:52:34.025377",
     "exception": false,
     "start_time": "2024-01-17T13:52:34.021430",
     "status": "completed"
    },
    "tags": []
   },
   "source": [
    "## 8. Discussion and conclusions"
   ]
  },
  {
   "cell_type": "markdown",
   "id": "3ce9945e",
   "metadata": {
    "papermill": {
     "duration": 0.004149,
     "end_time": "2024-01-17T13:52:34.033862",
     "exception": false,
     "start_time": "2024-01-17T13:52:34.029713",
     "status": "completed"
    },
    "tags": []
   },
   "source": [
    "- I used the same model architecture except, I tried different optimizers. I tested rmsprop, nadam, adadelta and finally adam, which produced the best results.\n",
    "    - rmsprop: accuracy 0.779, loss 0.366\n",
    "    - nadam: accuracy 0.823, loss 0.326\n",
    "    - adadelta: accuracy 0.505, loss 0.734\n",
    "- Best model was sequental with 2 hidden layers, 128 and 64 and a dropout of 0.5. Optimizer was adam and loss function was binary crossentropy.\n",
    "- Final achieved performance was an accuracy of .841 and loss of .299.\n",
    "- I learned how to preprocess text data.\n",
    "- Accuracy could be higher, same with loss. A better kind of model could also be beneficial."
   ]
  }
 ],
 "metadata": {
  "kaggle": {
   "accelerator": "none",
   "dataSources": [
    {
     "datasetId": 1690571,
     "sourceId": 3277449,
     "sourceType": "datasetVersion"
    }
   ],
   "dockerImageVersionId": 30301,
   "isGpuEnabled": false,
   "isInternetEnabled": true,
   "language": "python",
   "sourceType": "notebook"
  },
  "kernelspec": {
   "display_name": "Python 3",
   "language": "python",
   "name": "python3"
  },
  "language_info": {
   "codemirror_mode": {
    "name": "ipython",
    "version": 3
   },
   "file_extension": ".py",
   "mimetype": "text/x-python",
   "name": "python",
   "nbconvert_exporter": "python",
   "pygments_lexer": "ipython3",
   "version": "3.12.1"
  },
  "papermill": {
   "default_parameters": {},
   "duration": 9.589292,
   "end_time": "2024-01-17T13:52:34.666114",
   "environment_variables": {},
   "exception": null,
   "input_path": "__notebook__.ipynb",
   "output_path": "__notebook__.ipynb",
   "parameters": {},
   "start_time": "2024-01-17T13:52:25.076822",
   "version": "2.3.4"
  }
 },
 "nbformat": 4,
 "nbformat_minor": 5
}
