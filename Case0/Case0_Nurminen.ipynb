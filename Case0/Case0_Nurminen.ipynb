{
 "cells": [
  {
   "cell_type": "markdown",
   "id": "3ec38e2b",
   "metadata": {
    "papermill": {
     "duration": 0.00992,
     "end_time": "2024-10-20T15:06:03.048172",
     "exception": false,
     "start_time": "2024-10-20T15:06:03.038252",
     "status": "completed"
    },
    "tags": []
   },
   "source": [
    "# Case 0. Learning basics\n",
    "**Applications of Neural Networks in Medicine**<br>\n",
    "21.10.2024<br>\n",
    "Miska Nurminen<br>\n",
    "[Information Technology, Bachelor's Degree](https://www.metropolia.fi/en/academics/bachelors-degrees/information-technology)<br>\n",
    "[Metropolia University of Applied Sciences](https://www.metropolia.fi/en)\n",
    "\n",
    "- **v3**: Simplified version based on discussion with JK.\n",
    "- **v4**: Added conversion of labels [to_categorical](https://www.tensorflow.org/api_docs/python/tf/keras/utils/to_categorical) and changed the loss function to [categorical crossentropy](https://www.tensorflow.org/api_docs/python/tf/keras/metrics/categorical_crossentropy).\n",
    "- **v5**: Changes in instructions wordings.\n",
    "- **v6**: Small changes in model parameters."
   ]
  },
  {
   "cell_type": "markdown",
   "id": "46be00d4",
   "metadata": {
    "papermill": {
     "duration": 0.007969,
     "end_time": "2024-10-20T15:06:03.064213",
     "exception": false,
     "start_time": "2024-10-20T15:06:03.056244",
     "status": "completed"
    },
    "tags": []
   },
   "source": [
    "## 1. Introduction\n",
    "\n",
    "This Notebook was created for the purpose of understanding and learning the basics of neural networks. <br>\n",
    "The main objectives were to find the most simple neural network with as few epochs as possible to achieve accuracy of 97%."
   ]
  },
  {
   "cell_type": "markdown",
   "id": "501667bd",
   "metadata": {
    "papermill": {
     "duration": 0.007736,
     "end_time": "2024-10-20T15:06:03.079695",
     "exception": false,
     "start_time": "2024-10-20T15:06:03.071959",
     "status": "completed"
    },
    "tags": []
   },
   "source": [
    "## 2. Setup\n",
    "\n",
    "The only library used is Tensorflow. That is because none of this code would work without it."
   ]
  },
  {
   "cell_type": "code",
   "execution_count": 287,
   "id": "561babf7",
   "metadata": {
    "execution": {
     "iopub.execute_input": "2024-10-20T15:06:03.097768Z",
     "iopub.status.busy": "2024-10-20T15:06:03.097223Z",
     "iopub.status.idle": "2024-10-20T15:06:10.147839Z",
     "shell.execute_reply": "2024-10-20T15:06:10.146434Z"
    },
    "papermill": {
     "duration": 7.064093,
     "end_time": "2024-10-20T15:06:10.151571",
     "exception": false,
     "start_time": "2024-10-20T15:06:03.087478",
     "status": "completed"
    },
    "tags": []
   },
   "outputs": [
    {
     "name": "stdout",
     "output_type": "stream",
     "text": [
      "tensorflow: 2.17.0\n"
     ]
    }
   ],
   "source": [
    "import tensorflow as tf\n",
    "print(f'tensorflow: {tf.__version__}')"
   ]
  },
  {
   "cell_type": "markdown",
   "id": "76c20886",
   "metadata": {
    "papermill": {
     "duration": 0.007531,
     "end_time": "2024-10-20T15:06:10.167050",
     "exception": false,
     "start_time": "2024-10-20T15:06:10.159519",
     "status": "completed"
    },
    "tags": []
   },
   "source": [
    "## 3. Dataset"
   ]
  },
  {
   "cell_type": "markdown",
   "id": "8da4c1f1",
   "metadata": {
    "papermill": {
     "duration": 0.00756,
     "end_time": "2024-10-20T15:06:10.182245",
     "exception": false,
     "start_time": "2024-10-20T15:06:10.174685",
     "status": "completed"
    },
    "tags": []
   },
   "source": [
    "The dataset consists of 60,000 28x28 grayscale images of the 10 digits, along with a test set of 10,000 images."
   ]
  },
  {
   "cell_type": "code",
   "execution_count": 288,
   "id": "9d383763",
   "metadata": {
    "execution": {
     "iopub.execute_input": "2024-10-20T15:06:10.199755Z",
     "iopub.status.busy": "2024-10-20T15:06:10.198994Z",
     "iopub.status.idle": "2024-10-20T15:06:11.855348Z",
     "shell.execute_reply": "2024-10-20T15:06:11.854278Z"
    },
    "papermill": {
     "duration": 1.668352,
     "end_time": "2024-10-20T15:06:11.858277",
     "exception": false,
     "start_time": "2024-10-20T15:06:10.189925",
     "status": "completed"
    },
    "tags": []
   },
   "outputs": [],
   "source": [
    "mnist = tf.keras.datasets.mnist\n",
    "\n",
    "(x_train, y_train), (x_test, y_test) = mnist.load_data()"
   ]
  },
  {
   "cell_type": "code",
   "execution_count": 289,
   "id": "032e4953",
   "metadata": {
    "execution": {
     "iopub.execute_input": "2024-10-20T15:06:11.878702Z",
     "iopub.status.busy": "2024-10-20T15:06:11.877948Z",
     "iopub.status.idle": "2024-10-20T15:06:11.884879Z",
     "shell.execute_reply": "2024-10-20T15:06:11.883682Z"
    },
    "papermill": {
     "duration": 0.021365,
     "end_time": "2024-10-20T15:06:11.887953",
     "exception": false,
     "start_time": "2024-10-20T15:06:11.866588",
     "status": "completed"
    },
    "tags": []
   },
   "outputs": [
    {
     "name": "stdout",
     "output_type": "stream",
     "text": [
      "x_train: shape (60000, 28, 28) and ndim 3\n",
      "x_test:  shape (10000, 28, 28) and ndim 3\n",
      "y_train: shape (60000,) and ndim 1\n",
      "y_test:  shape (10000,) and ndim 1\n"
     ]
    }
   ],
   "source": [
    "print(f'x_train: shape {x_train.shape} and ndim {x_train.ndim}')\n",
    "print(f'x_test:  shape {x_test.shape} and ndim {x_test.ndim}')\n",
    "\n",
    "print(f'y_train: shape {y_train.shape} and ndim {y_train.ndim}')\n",
    "print(f'y_test:  shape {y_test.shape} and ndim {y_test.ndim}')"
   ]
  },
  {
   "cell_type": "markdown",
   "id": "e71e3407",
   "metadata": {
    "papermill": {
     "duration": 0.007771,
     "end_time": "2024-10-20T15:06:11.903932",
     "exception": false,
     "start_time": "2024-10-20T15:06:11.896161",
     "status": "completed"
    },
    "tags": []
   },
   "source": [
    "## 4. Preprocessing"
   ]
  },
  {
   "cell_type": "markdown",
   "id": "aade2dd9",
   "metadata": {
    "papermill": {
     "duration": 0.00769,
     "end_time": "2024-10-20T15:06:11.919756",
     "exception": false,
     "start_time": "2024-10-20T15:06:11.912066",
     "status": "completed"
    },
    "tags": []
   },
   "source": [
    "The pixel values of the images range from 0 through 255. Scale these values to a range of 0 to 1 by dividing the values by 255.0.<br>\n",
    "Train and test data is also converted to a binary class matrix from a class vector."
   ]
  },
  {
   "cell_type": "code",
   "execution_count": 290,
   "id": "17e2f671",
   "metadata": {
    "execution": {
     "iopub.execute_input": "2024-10-20T15:06:11.937789Z",
     "iopub.status.busy": "2024-10-20T15:06:11.937391Z",
     "iopub.status.idle": "2024-10-20T15:06:12.130927Z",
     "shell.execute_reply": "2024-10-20T15:06:12.129545Z"
    },
    "papermill": {
     "duration": 0.206267,
     "end_time": "2024-10-20T15:06:12.134160",
     "exception": false,
     "start_time": "2024-10-20T15:06:11.927893",
     "status": "completed"
    },
    "tags": []
   },
   "outputs": [],
   "source": [
    "x_train = x_train / 255.0 \n",
    "x_test = x_test / 255.0\n",
    "\n",
    "y_train = tf.keras.utils.to_categorical(y_train)\n",
    "y_test = tf.keras.utils.to_categorical(y_test)"
   ]
  },
  {
   "cell_type": "markdown",
   "id": "32b72a2f",
   "metadata": {
    "papermill": {
     "duration": 0.008412,
     "end_time": "2024-10-20T15:06:12.150785",
     "exception": false,
     "start_time": "2024-10-20T15:06:12.142373",
     "status": "completed"
    },
    "tags": []
   },
   "source": [
    "## 5. Modeling"
   ]
  },
  {
   "cell_type": "markdown",
   "id": "0493c7e3",
   "metadata": {
    "papermill": {
     "duration": 0.008318,
     "end_time": "2024-10-20T15:06:12.167749",
     "exception": false,
     "start_time": "2024-10-20T15:06:12.159431",
     "status": "completed"
    },
    "tags": []
   },
   "source": [
    "Sequential is useful for stacking layers where each layer has one input tensor and one output tensor.<br>\n",
    "Layers are functions with a known mathematical structure that can be reused and have trainable variables.<br>\n",
    "Most TensorFlow models are composed of layers."
   ]
  },
  {
   "cell_type": "code",
   "execution_count": 291,
   "id": "5ddd0f78",
   "metadata": {
    "execution": {
     "iopub.execute_input": "2024-10-20T15:06:12.188006Z",
     "iopub.status.busy": "2024-10-20T15:06:12.186826Z",
     "iopub.status.idle": "2024-10-20T15:06:12.338311Z",
     "shell.execute_reply": "2024-10-20T15:06:12.337282Z"
    },
    "papermill": {
     "duration": 0.164815,
     "end_time": "2024-10-20T15:06:12.341418",
     "exception": false,
     "start_time": "2024-10-20T15:06:12.176603",
     "status": "completed"
    },
    "tags": []
   },
   "outputs": [],
   "source": [
    "from tensorflow.keras.models import Sequential\n",
    "from tensorflow.keras.layers import Flatten, Dense\n",
    "\n",
    "model = Sequential([\n",
    "    Flatten(input_shape=(28, 28)),\n",
    "    Dense(80, activation='relu'),\n",
    "    Dense(10, activation='softmax')\n",
    "])"
   ]
  },
  {
   "cell_type": "code",
   "execution_count": 292,
   "id": "c4d6291c",
   "metadata": {
    "execution": {
     "iopub.execute_input": "2024-10-20T15:06:12.359775Z",
     "iopub.status.busy": "2024-10-20T15:06:12.359038Z",
     "iopub.status.idle": "2024-10-20T15:06:12.544202Z",
     "shell.execute_reply": "2024-10-20T15:06:12.543180Z"
    },
    "papermill": {
     "duration": 0.197724,
     "end_time": "2024-10-20T15:06:12.547273",
     "exception": false,
     "start_time": "2024-10-20T15:06:12.349549",
     "status": "completed"
    },
    "tags": []
   },
   "outputs": [],
   "source": [
    "model.compile(optimizer = 'adam',\n",
    "              loss = 'categorical_crossentropy',\n",
    "              metrics = ['accuracy'])"
   ]
  },
  {
   "cell_type": "code",
   "execution_count": 293,
   "id": "e6777fa0",
   "metadata": {
    "execution": {
     "iopub.execute_input": "2024-10-20T15:06:12.565895Z",
     "iopub.status.busy": "2024-10-20T15:06:12.564975Z",
     "iopub.status.idle": "2024-10-20T15:06:12.572282Z",
     "shell.execute_reply": "2024-10-20T15:06:12.571125Z"
    },
    "papermill": {
     "duration": 0.02005,
     "end_time": "2024-10-20T15:06:12.575441",
     "exception": false,
     "start_time": "2024-10-20T15:06:12.555391",
     "status": "completed"
    },
    "tags": []
   },
   "outputs": [
    {
     "data": {
      "text/html": [
       "<pre style=\"white-space:pre;overflow-x:auto;line-height:normal;font-family:Menlo,'DejaVu Sans Mono',consolas,'Courier New',monospace\"><span style=\"font-weight: bold\">Model: \"sequential_32\"</span>\n",
       "</pre>\n"
      ],
      "text/plain": [
       "\u001b[1mModel: \"sequential_32\"\u001b[0m\n"
      ]
     },
     "metadata": {},
     "output_type": "display_data"
    },
    {
     "data": {
      "text/html": [
       "<pre style=\"white-space:pre;overflow-x:auto;line-height:normal;font-family:Menlo,'DejaVu Sans Mono',consolas,'Courier New',monospace\">┏━━━━━━━━━━━━━━━━━━━━━━━━━━━━━━━━━┳━━━━━━━━━━━━━━━━━━━━━━━━┳━━━━━━━━━━━━━━━┓\n",
       "┃<span style=\"font-weight: bold\"> Layer (type)                    </span>┃<span style=\"font-weight: bold\"> Output Shape           </span>┃<span style=\"font-weight: bold\">       Param # </span>┃\n",
       "┡━━━━━━━━━━━━━━━━━━━━━━━━━━━━━━━━━╇━━━━━━━━━━━━━━━━━━━━━━━━╇━━━━━━━━━━━━━━━┩\n",
       "│ flatten_32 (<span style=\"color: #0087ff; text-decoration-color: #0087ff\">Flatten</span>)            │ (<span style=\"color: #00d7ff; text-decoration-color: #00d7ff\">None</span>, <span style=\"color: #00af00; text-decoration-color: #00af00\">784</span>)            │             <span style=\"color: #00af00; text-decoration-color: #00af00\">0</span> │\n",
       "├─────────────────────────────────┼────────────────────────┼───────────────┤\n",
       "│ dense_64 (<span style=\"color: #0087ff; text-decoration-color: #0087ff\">Dense</span>)                │ (<span style=\"color: #00d7ff; text-decoration-color: #00d7ff\">None</span>, <span style=\"color: #00af00; text-decoration-color: #00af00\">80</span>)             │        <span style=\"color: #00af00; text-decoration-color: #00af00\">62,800</span> │\n",
       "├─────────────────────────────────┼────────────────────────┼───────────────┤\n",
       "│ dense_65 (<span style=\"color: #0087ff; text-decoration-color: #0087ff\">Dense</span>)                │ (<span style=\"color: #00d7ff; text-decoration-color: #00d7ff\">None</span>, <span style=\"color: #00af00; text-decoration-color: #00af00\">10</span>)             │           <span style=\"color: #00af00; text-decoration-color: #00af00\">810</span> │\n",
       "└─────────────────────────────────┴────────────────────────┴───────────────┘\n",
       "</pre>\n"
      ],
      "text/plain": [
       "┏━━━━━━━━━━━━━━━━━━━━━━━━━━━━━━━━━┳━━━━━━━━━━━━━━━━━━━━━━━━┳━━━━━━━━━━━━━━━┓\n",
       "┃\u001b[1m \u001b[0m\u001b[1mLayer (type)                   \u001b[0m\u001b[1m \u001b[0m┃\u001b[1m \u001b[0m\u001b[1mOutput Shape          \u001b[0m\u001b[1m \u001b[0m┃\u001b[1m \u001b[0m\u001b[1m      Param #\u001b[0m\u001b[1m \u001b[0m┃\n",
       "┡━━━━━━━━━━━━━━━━━━━━━━━━━━━━━━━━━╇━━━━━━━━━━━━━━━━━━━━━━━━╇━━━━━━━━━━━━━━━┩\n",
       "│ flatten_32 (\u001b[38;5;33mFlatten\u001b[0m)            │ (\u001b[38;5;45mNone\u001b[0m, \u001b[38;5;34m784\u001b[0m)            │             \u001b[38;5;34m0\u001b[0m │\n",
       "├─────────────────────────────────┼────────────────────────┼───────────────┤\n",
       "│ dense_64 (\u001b[38;5;33mDense\u001b[0m)                │ (\u001b[38;5;45mNone\u001b[0m, \u001b[38;5;34m80\u001b[0m)             │        \u001b[38;5;34m62,800\u001b[0m │\n",
       "├─────────────────────────────────┼────────────────────────┼───────────────┤\n",
       "│ dense_65 (\u001b[38;5;33mDense\u001b[0m)                │ (\u001b[38;5;45mNone\u001b[0m, \u001b[38;5;34m10\u001b[0m)             │           \u001b[38;5;34m810\u001b[0m │\n",
       "└─────────────────────────────────┴────────────────────────┴───────────────┘\n"
      ]
     },
     "metadata": {},
     "output_type": "display_data"
    },
    {
     "data": {
      "text/html": [
       "<pre style=\"white-space:pre;overflow-x:auto;line-height:normal;font-family:Menlo,'DejaVu Sans Mono',consolas,'Courier New',monospace\"><span style=\"font-weight: bold\"> Total params: </span><span style=\"color: #00af00; text-decoration-color: #00af00\">63,610</span> (248.48 KB)\n",
       "</pre>\n"
      ],
      "text/plain": [
       "\u001b[1m Total params: \u001b[0m\u001b[38;5;34m63,610\u001b[0m (248.48 KB)\n"
      ]
     },
     "metadata": {},
     "output_type": "display_data"
    },
    {
     "data": {
      "text/html": [
       "<pre style=\"white-space:pre;overflow-x:auto;line-height:normal;font-family:Menlo,'DejaVu Sans Mono',consolas,'Courier New',monospace\"><span style=\"font-weight: bold\"> Trainable params: </span><span style=\"color: #00af00; text-decoration-color: #00af00\">63,610</span> (248.48 KB)\n",
       "</pre>\n"
      ],
      "text/plain": [
       "\u001b[1m Trainable params: \u001b[0m\u001b[38;5;34m63,610\u001b[0m (248.48 KB)\n"
      ]
     },
     "metadata": {},
     "output_type": "display_data"
    },
    {
     "data": {
      "text/html": [
       "<pre style=\"white-space:pre;overflow-x:auto;line-height:normal;font-family:Menlo,'DejaVu Sans Mono',consolas,'Courier New',monospace\"><span style=\"font-weight: bold\"> Non-trainable params: </span><span style=\"color: #00af00; text-decoration-color: #00af00\">0</span> (0.00 B)\n",
       "</pre>\n"
      ],
      "text/plain": [
       "\u001b[1m Non-trainable params: \u001b[0m\u001b[38;5;34m0\u001b[0m (0.00 B)\n"
      ]
     },
     "metadata": {},
     "output_type": "display_data"
    }
   ],
   "source": [
    "model.summary()"
   ]
  },
  {
   "cell_type": "markdown",
   "id": "f83dac81",
   "metadata": {
    "papermill": {
     "duration": 0.007941,
     "end_time": "2024-10-20T15:06:12.591595",
     "exception": false,
     "start_time": "2024-10-20T15:06:12.583654",
     "status": "completed"
    },
    "tags": []
   },
   "source": [
    "## 6. Training"
   ]
  },
  {
   "cell_type": "markdown",
   "id": "f1a8bab8",
   "metadata": {
    "papermill": {
     "duration": 0.007962,
     "end_time": "2024-10-20T15:06:12.607809",
     "exception": false,
     "start_time": "2024-10-20T15:06:12.599847",
     "status": "completed"
    },
    "tags": []
   },
   "source": [
    "Neural network training involves adjusting the model's weights based on input data to improve prediction accuracy.<br>\n",
    "The network's output is compared to actual targets using a loss function.<br>\n",
    "This process is repeated iteratively to optimize the model's performance.<br>\n",
    "In this case, the process is repated 3 times."
   ]
  },
  {
   "cell_type": "code",
   "execution_count": 294,
   "id": "7af1369b",
   "metadata": {
    "execution": {
     "iopub.execute_input": "2024-10-20T15:06:12.626140Z",
     "iopub.status.busy": "2024-10-20T15:06:12.625703Z",
     "iopub.status.idle": "2024-10-20T15:07:35.568102Z",
     "shell.execute_reply": "2024-10-20T15:07:35.566602Z"
    },
    "papermill": {
     "duration": 82.954925,
     "end_time": "2024-10-20T15:07:35.571086",
     "exception": false,
     "start_time": "2024-10-20T15:06:12.616161",
     "status": "completed"
    },
    "tags": []
   },
   "outputs": [
    {
     "name": "stdout",
     "output_type": "stream",
     "text": [
      "Epoch 1/3\n",
      "\u001b[1m1875/1875\u001b[0m \u001b[32m━━━━━━━━━━━━━━━━━━━━\u001b[0m\u001b[37m\u001b[0m \u001b[1m2s\u001b[0m 985us/step - accuracy: 0.8672 - loss: 0.4803\n",
      "Epoch 2/3\n",
      "\u001b[1m1875/1875\u001b[0m \u001b[32m━━━━━━━━━━━━━━━━━━━━\u001b[0m\u001b[37m\u001b[0m \u001b[1m2s\u001b[0m 962us/step - accuracy: 0.9600 - loss: 0.1396\n",
      "Epoch 3/3\n",
      "\u001b[1m1875/1875\u001b[0m \u001b[32m━━━━━━━━━━━━━━━━━━━━\u001b[0m\u001b[37m\u001b[0m \u001b[1m2s\u001b[0m 965us/step - accuracy: 0.9716 - loss: 0.0951\n"
     ]
    },
    {
     "data": {
      "text/plain": [
       "<keras.src.callbacks.history.History at 0x1e604164e90>"
      ]
     },
     "execution_count": 294,
     "metadata": {},
     "output_type": "execute_result"
    }
   ],
   "source": [
    "model.fit(x_train, y_train, epochs = 3)"
   ]
  },
  {
   "cell_type": "markdown",
   "id": "850078e3",
   "metadata": {
    "papermill": {
     "duration": 0.129012,
     "end_time": "2024-10-20T15:07:35.831267",
     "exception": false,
     "start_time": "2024-10-20T15:07:35.702255",
     "status": "completed"
    },
    "tags": []
   },
   "source": [
    "## 7. Performance and evaluation"
   ]
  },
  {
   "cell_type": "markdown",
   "id": "a5c17d09",
   "metadata": {
    "papermill": {
     "duration": 0.126428,
     "end_time": "2024-10-20T15:07:36.086434",
     "exception": false,
     "start_time": "2024-10-20T15:07:35.960006",
     "status": "completed"
    },
    "tags": []
   },
   "source": [
    "The final perfomance of the model was good. It has an accuracy of 0.9713 and loss is 0.0985."
   ]
  },
  {
   "cell_type": "code",
   "execution_count": 295,
   "id": "b64de4b6",
   "metadata": {
    "execution": {
     "iopub.execute_input": "2024-10-20T15:07:36.371595Z",
     "iopub.status.busy": "2024-10-20T15:07:36.370749Z",
     "iopub.status.idle": "2024-10-20T15:07:37.214355Z",
     "shell.execute_reply": "2024-10-20T15:07:37.213136Z"
    },
    "papermill": {
     "duration": 0.99966,
     "end_time": "2024-10-20T15:07:37.217176",
     "exception": false,
     "start_time": "2024-10-20T15:07:36.217516",
     "status": "completed"
    },
    "tags": []
   },
   "outputs": [
    {
     "name": "stdout",
     "output_type": "stream",
     "text": [
      "313/313 - 0s - 1ms/step - accuracy: 0.9713 - loss: 0.0985\n"
     ]
    },
    {
     "data": {
      "text/plain": [
       "[0.09851877391338348, 0.9713000059127808]"
      ]
     },
     "execution_count": 295,
     "metadata": {},
     "output_type": "execute_result"
    }
   ],
   "source": [
    "model.evaluate(x_test,  y_test, verbose=2)"
   ]
  },
  {
   "cell_type": "markdown",
   "id": "bf852562",
   "metadata": {
    "papermill": {
     "duration": 0.127278,
     "end_time": "2024-10-20T15:07:37.472585",
     "exception": false,
     "start_time": "2024-10-20T15:07:37.345307",
     "status": "completed"
    },
    "tags": []
   },
   "source": [
    "## 8. Discussion and conclusions"
   ]
  },
  {
   "cell_type": "markdown",
   "id": "19306e2b",
   "metadata": {
    "papermill": {
     "duration": 0.128049,
     "end_time": "2024-10-20T15:07:37.729520",
     "exception": false,
     "start_time": "2024-10-20T15:07:37.601471",
     "status": "completed"
    },
    "tags": []
   },
   "source": [
    "- I played around with the amount of nodes in each of the 3 dense layers. In the end I achieved the wanted results with just 2 dense layers with 80 and 10 nodes respectively.\n",
    "- The best model I got was a sequental model with 1 hidden layer of 80 nodes.\n",
    "- The final perfomance of the model was good. It has an accuracy of 0.9713 and loss is 0.0985.\n",
    "- I can't say about my observations but I learned the basics of neural networks and how they work.\n",
    "- You could maybe use a different model to achieve better results.\n",
    "- I also tried a CNN, but it was unnecessary. Accuracy was around 0.099."
   ]
  },
  {
   "cell_type": "markdown",
   "id": "05ee51ae",
   "metadata": {
    "papermill": {
     "duration": 0.12862,
     "end_time": "2024-10-20T15:07:37.989162",
     "exception": false,
     "start_time": "2024-10-20T15:07:37.860542",
     "status": "completed"
    },
    "tags": []
   },
   "source": [
    "To learn more, see [Tensorflow tutorials](https://www.tensorflow.org/tutorials)."
   ]
  }
 ],
 "metadata": {
  "kaggle": {
   "accelerator": "none",
   "dataSources": [],
   "dockerImageVersionId": 30301,
   "isGpuEnabled": false,
   "isInternetEnabled": true,
   "language": "python",
   "sourceType": "notebook"
  },
  "kernelspec": {
   "display_name": "Python 3",
   "language": "python",
   "name": "python3"
  },
  "language_info": {
   "codemirror_mode": {
    "name": "ipython",
    "version": 3
   },
   "file_extension": ".py",
   "mimetype": "text/x-python",
   "name": "python",
   "nbconvert_exporter": "python",
   "pygments_lexer": "ipython3",
   "version": "3.11.1"
  },
  "papermill": {
   "default_parameters": {},
   "duration": 111.118297,
   "end_time": "2024-10-20T15:07:41.835346",
   "environment_variables": {},
   "exception": null,
   "input_path": "__notebook__.ipynb",
   "output_path": "__notebook__.ipynb",
   "parameters": {},
   "start_time": "2024-10-20T15:05:50.717049",
   "version": "2.3.4"
  }
 },
 "nbformat": 4,
 "nbformat_minor": 5
}
